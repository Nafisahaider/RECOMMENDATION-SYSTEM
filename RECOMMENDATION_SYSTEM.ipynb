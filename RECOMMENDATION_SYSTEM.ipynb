{
  "nbformat": 4,
  "nbformat_minor": 0,
  "metadata": {
    "colab": {
      "provenance": []
    },
    "kernelspec": {
      "name": "python3",
      "display_name": "Python 3"
    },
    "language_info": {
      "name": "python"
    }
  },
  "cells": [
    {
      "cell_type": "code",
      "source": [
        "from IPython import get_ipython\n",
        "from IPython.display import display"
      ],
      "metadata": {
        "id": "WYCxnJINYhIt"
      },
      "execution_count": 15,
      "outputs": []
    },
    {
      "cell_type": "code",
      "source": [
        "!pip install scikit-surprise"
      ],
      "metadata": {
        "colab": {
          "base_uri": "https://localhost:8080/"
        },
        "id": "5f8O16wJ2LbU",
        "outputId": "8734f1a2-977d-4a55-f988-5335dd0f1c0a"
      },
      "execution_count": 16,
      "outputs": [
        {
          "output_type": "stream",
          "name": "stdout",
          "text": [
            "Requirement already satisfied: scikit-surprise in /usr/local/lib/python3.11/dist-packages (1.1.4)\n",
            "Requirement already satisfied: joblib>=1.2.0 in /usr/local/lib/python3.11/dist-packages (from scikit-surprise) (1.4.2)\n",
            "Requirement already satisfied: numpy>=1.19.5 in /usr/local/lib/python3.11/dist-packages (from scikit-surprise) (1.26.4)\n",
            "Requirement already satisfied: scipy>=1.6.0 in /usr/local/lib/python3.11/dist-packages (from scikit-surprise) (1.13.1)\n"
          ]
        }
      ]
    },
    {
      "cell_type": "markdown",
      "source": [
        "# important libraries"
      ],
      "metadata": {
        "id": "ZTqYriqN-slb"
      }
    },
    {
      "cell_type": "code",
      "execution_count": 17,
      "metadata": {
        "id": "wMDftQgT13uc"
      },
      "outputs": [],
      "source": [
        "import pandas as pd\n",
        "import numpy as np\n",
        "import matplotlib.pyplot as plt\n",
        "import seaborn as sns\n",
        "from surprise import SVD, Dataset, Reader\n",
        "from surprise.model_selection import cross_validate\n",
        "from sklearn.metrics.pairwise import cosine_similarity\n",
        "from scipy.sparse import csr_matrix\n"
      ]
    },
    {
      "cell_type": "code",
      "source": [
        "from google.colab import drive\n",
        "drive.mount('/content/drive')"
      ],
      "metadata": {
        "colab": {
          "base_uri": "https://localhost:8080/"
        },
        "id": "ilZre80i3ZpL",
        "outputId": "e4128f8c-e5a4-4a64-8575-e7ca039ceda2"
      },
      "execution_count": 18,
      "outputs": [
        {
          "output_type": "stream",
          "name": "stdout",
          "text": [
            "Drive already mounted at /content/drive; to attempt to forcibly remount, call drive.mount(\"/content/drive\", force_remount=True).\n"
          ]
        }
      ]
    },
    {
      "cell_type": "markdown",
      "source": [
        "# Load Dataset"
      ],
      "metadata": {
        "id": "-kqHi10L-qL6"
      }
    },
    {
      "cell_type": "code",
      "source": [
        "!ls \"/content/drive/MyDrive/data/archive_11\"\n"
      ],
      "metadata": {
        "colab": {
          "base_uri": "https://localhost:8080/"
        },
        "id": "yA5onMr8602k",
        "outputId": "61af920c-8258-43fc-8503-bca5c2183102"
      },
      "execution_count": 19,
      "outputs": [
        {
          "output_type": "stream",
          "name": "stdout",
          "text": [
            "anime.csv  rating.csv\n"
          ]
        }
      ]
    },
    {
      "cell_type": "code",
      "source": [
        "# Define the paths\n",
        "anime_path = \"/content/drive/MyDrive/data/archive_11/anime.csv\"\n",
        "rating_path = \"/content/drive/MyDrive/data/archive_11/rating.csv\"\n",
        "# Load the dataset\n",
        "anime_df = pd.read_csv(\"/content/drive/MyDrive/data/archive_11/anime.csv\")\n",
        "rating_df = pd.read_csv(\"/content/drive/MyDrive/data/archive_11/rating.csv\")\n"
      ],
      "metadata": {
        "id": "ctxVvg1u4uiY"
      },
      "execution_count": 20,
      "outputs": []
    },
    {
      "cell_type": "code",
      "source": [
        "print(anime_df.size)\n",
        "print(rating_df.size)"
      ],
      "metadata": {
        "colab": {
          "base_uri": "https://localhost:8080/"
        },
        "id": "CcqpFeYI_mqL",
        "outputId": "02f1a757-21f8-4ed8-e15a-af794dc310a5"
      },
      "execution_count": 21,
      "outputs": [
        {
          "output_type": "stream",
          "name": "stdout",
          "text": [
            "86058\n",
            "23441211\n"
          ]
        }
      ]
    },
    {
      "cell_type": "code",
      "source": [
        "# Display the first few rows\n",
        "print(anime_df.head())\n"
      ],
      "metadata": {
        "colab": {
          "base_uri": "https://localhost:8080/"
        },
        "id": "vycb2zCw-QZe",
        "outputId": "10a295f7-56aa-4413-8500-bda07a106df6"
      },
      "execution_count": 22,
      "outputs": [
        {
          "output_type": "stream",
          "name": "stdout",
          "text": [
            "   anime_id                              name  \\\n",
            "0     32281                    Kimi no Na wa.   \n",
            "1      5114  Fullmetal Alchemist: Brotherhood   \n",
            "2     28977                          Gintama°   \n",
            "3      9253                       Steins;Gate   \n",
            "4      9969                     Gintama&#039;   \n",
            "\n",
            "                                               genre   type episodes  rating  \\\n",
            "0               Drama, Romance, School, Supernatural  Movie        1    9.37   \n",
            "1  Action, Adventure, Drama, Fantasy, Magic, Mili...     TV       64    9.26   \n",
            "2  Action, Comedy, Historical, Parody, Samurai, S...     TV       51    9.25   \n",
            "3                                   Sci-Fi, Thriller     TV       24    9.17   \n",
            "4  Action, Comedy, Historical, Parody, Samurai, S...     TV       51    9.16   \n",
            "\n",
            "   members  \n",
            "0   200630  \n",
            "1   793665  \n",
            "2   114262  \n",
            "3   673572  \n",
            "4   151266  \n"
          ]
        }
      ]
    },
    {
      "cell_type": "code",
      "source": [
        "print(rating_df.head())"
      ],
      "metadata": {
        "colab": {
          "base_uri": "https://localhost:8080/"
        },
        "id": "jejipcBX-XTe",
        "outputId": "467cbe84-f6db-4c77-a80a-a0b5d6f891fb"
      },
      "execution_count": 23,
      "outputs": [
        {
          "output_type": "stream",
          "name": "stdout",
          "text": [
            "   user_id  anime_id  rating\n",
            "0        1        20      -1\n",
            "1        1        24      -1\n",
            "2        1        79      -1\n",
            "3        1       226      -1\n",
            "4        1       241      -1\n"
          ]
        }
      ]
    },
    {
      "cell_type": "markdown",
      "source": [
        "\n",
        "# Data Cleaning"
      ],
      "metadata": {
        "id": "m-755-Fo-_qS"
      }
    },
    {
      "cell_type": "code",
      "source": [
        "anime_df.dropna(inplace=True)  # Removing missing values\n",
        "rating_df = rating_df[rating_df.rating != -1]  # Removing undefined ratings"
      ],
      "metadata": {
        "id": "ywc3WAEc_ByU"
      },
      "execution_count": 24,
      "outputs": []
    },
    {
      "cell_type": "markdown",
      "source": [
        "Dataset size after cleaning"
      ],
      "metadata": {
        "id": "FDycJ2pQ_2hc"
      }
    },
    {
      "cell_type": "code",
      "source": [
        "print(anime_df.size)\n",
        "print(rating_df.size)"
      ],
      "metadata": {
        "colab": {
          "base_uri": "https://localhost:8080/"
        },
        "id": "RNOxlkqC_RwM",
        "outputId": "63cc7e21-c758-48f7-ff84-74720debe94a"
      },
      "execution_count": 25,
      "outputs": [
        {
          "output_type": "stream",
          "name": "stdout",
          "text": [
            "84119\n",
            "19011723\n"
          ]
        }
      ]
    },
    {
      "cell_type": "markdown",
      "source": [
        "# Exploratory Data Analysis"
      ],
      "metadata": {
        "id": "ladO2NIqAFbY"
      }
    },
    {
      "cell_type": "code",
      "source": [
        "plt.figure(figsize=(10, 5))\n",
        "sns.histplot(anime_df['rating'], bins=20, kde=True)\n",
        "plt.title(\"Anime Ratings Distribution\")\n",
        "plt.show()"
      ],
      "metadata": {
        "colab": {
          "base_uri": "https://localhost:8080/",
          "height": 487
        },
        "id": "qxKWUop7AHFR",
        "outputId": "73db8cf1-0df0-4731-bb5d-94470947fc56"
      },
      "execution_count": 26,
      "outputs": [
        {
          "output_type": "display_data",
          "data": {
            "text/plain": [
              "<Figure size 1000x500 with 1 Axes>"
            ],
            "image/png": "[encoded data removed]"
          },
          "metadata": {}
        }
      ]
    },
    {
      "cell_type": "markdown",
      "source": [
        "# Collaborative Filtering (User-Item Matrix)"
      ],
      "metadata": {
        "id": "TO5u4D_3AWBA"
      }
    },
    {
      "cell_type": "code",
      "source": [
        "from sklearn.neighbors import NearestNeighbors\n",
        "from scipy.sparse import csr_matrix\n",
        "\n",
        "#'rating_df' has columns 'user_id', 'anime_id', and 'rating'\n",
        "user_item_sparse = csr_matrix((rating_df['rating'], (rating_df['user_id'], rating_df['anime_id'])))\n",
        "\n",
        "knn = NearestNeighbors(metric='cosine', algorithm='brute')\n",
        "knn.fit(user_item_sparse)\n",
        "\n",
        "# Find the 10 most similar users to user_id=1\n",
        "distances, indices = knn.kneighbors(user_item_sparse[1], n_neighbors=10)\n",
        "print(indices)"
      ],
      "metadata": {
        "colab": {
          "base_uri": "https://localhost:8080/"
        },
        "id": "mntlpiPJCfet",
        "outputId": "e0947a40-b284-4c1f-827c-82a326c36c23"
      },
      "execution_count": 27,
      "outputs": [
        {
          "output_type": "stream",
          "name": "stdout",
          "text": [
            "[[    1 71834  1776 46337 69976 64220 65558 33941  9825 71608]]\n"
          ]
        }
      ]
    },
    {
      "cell_type": "markdown",
      "source": [
        "# Recommendation Function"
      ],
      "metadata": {
        "id": "BrVObtD8DKSm"
      }
    },
    {
      "cell_type": "code",
      "source": [
        "def get_recommendations(user_id, model, num_recs=5):\n",
        "    user_ratings = rating_df[rating_df['user_id'] == user_id]\n",
        "    anime_ids = anime_df[~anime_df['anime_id'].isin(user_ratings['anime_id'])]['anime_id']\n",
        "    preds = [model.predict(user_id, anime_id).est for anime_id in anime_ids]\n",
        "    top_anime = np.argsort(preds)[-num_recs:]\n",
        "    return anime_df.iloc[top_anime][['name', 'rating']]"
      ],
      "metadata": {
        "id": "f1icTzxuDLsq"
      },
      "execution_count": 28,
      "outputs": []
    },
    {
      "cell_type": "markdown",
      "source": [
        "# Show Recommendations"
      ],
      "metadata": {
        "id": "-nVmY_XtDSEF"
      }
    },
    {
      "cell_type": "code",
      "source": [
        "from surprise import SVD, Dataset, Reader\n",
        "\n",
        "# Create and train the SVD model\n",
        "reader = Reader(rating_scale=(1, 10))  # Define rating scale\n",
        "data = Dataset.load_from_df(rating_df[['user_id', 'anime_id', 'rating']], reader)\n",
        "trainset = data.build_full_trainset()\n",
        "svd = SVD()  # Initialize the SVD model\n",
        "svd.fit(trainset) # Train the SVD model\n",
        "user_id = 1\n",
        "print(get_recommendations(user_id, svd))  #'svd' is defined"
      ],
      "metadata": {
        "colab": {
          "base_uri": "https://localhost:8080/"
        },
        "id": "bNFGGRr9Y5NU",
        "outputId": "fd0ff723-39e9-43a1-c818-fd291cfead5f"
      },
      "execution_count": 30,
      "outputs": [
        {
          "output_type": "stream",
          "name": "stdout",
          "text": [
            "                                            name  rating\n",
            "333  Final Fantasy VII: Advent Children Complete    8.17\n",
            "118                              No Game No Life    8.47\n",
            "86                            Shingeki no Kyojin    8.54\n",
            "0                                 Kimi no Na wa.    9.37\n",
            "59    Steins;Gate Movie: Fuka Ryouiki no Déjà vu    8.61\n"
          ]
        }
      ]
    }
  ]
}